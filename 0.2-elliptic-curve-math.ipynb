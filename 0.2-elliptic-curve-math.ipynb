{
 "cells": [
  {
   "cell_type": "code",
   "execution_count": 5,
   "metadata": {},
   "outputs": [],
   "source": [
    "import random\n",
    "import util\n",
    "from test_framework.key import generate_key_pair, ECKey, ECPubKey, SECP256K1_FIELD_SIZE, SECP256K1_ORDER"
   ]
  },
  {
   "cell_type": "markdown",
   "metadata": {},
   "source": [
    "# 0.2 Elliptic Curve Math (Review)\n"
   ]
  },
  {
   "cell_type": "markdown",
   "metadata": {},
   "source": [
    "Elliptic Curve math involves scalars and points.\n",
    "\n",
    "* A scalar is a positive integer which is smaller than the group order, and is denoted by a lower case letter (eg `a`).\n",
    "* A point lies on the curve and is denoted by an upper-case letter (eg `C`) or a pair of co-ordinates (eg `(x,y)`).\n",
    "\n",
    "In Bitcoin, key pair generation and signing is performed over the secp256k1 curve. All scalars are modulo the group order `SECP256K1_ORDER`, which is a very large number"
   ]
  },
  {
   "cell_type": "markdown",
   "metadata": {},
   "source": [
    "![test](images/ec_math0.jpg)\n",
    "\n",
    "_An overview of all operations of scalars and points over elliptic curves._"
   ]
  },
  {
   "cell_type": "markdown",
   "metadata": {},
   "source": [
    "### Classes / Methods for Elliptic Curve Math\n",
    "\n",
    "**`Integers`:** All Scalar operations over secp256k1 can be performed with python integers and the modulo `%` operator. \n",
    "\n",
    "Scalar addition, subtraction, multiplication and division over secp256k1 are modulo a large prime number SECP256K1_ORDER.\n",
    "\n",
    "* All scalar operations are performed modulo `SECP256K1_ORDER`.\n",
    "* Addition: `a + b % SECP256K1_ORDER`\n",
    "* Subtraction: `-a = SECP256K1_ORDER - a`\n",
    "* Multiplication: `a * b % SECP256K1_ORDER`\n",
    "* Division (see [Fermat's little theorem](https://en.wikipedia.org/wiki/Fermat%27s_little_theorem)): `1/b = b ** (SECP256K1_ORDER-2) % SECP256K1_ORDER`\n",
    "\n",
    "**`ECKey`:** The Bitcoin Core library provides a private key class which can also perform certain scalar operations.\n",
    "\n",
    "* Addition: `a + b`\n",
    "* Subtraction: `a - b` \n",
    "* Multiplication: `a * b`\n",
    "* Division: `a * 1/b` (See Fermat's little theorem) \n",
    "\n",
    "**`ECPubKey`:** A public key is the private key scalar multiplied by the group's _generator point_ `G`. The following operations are possible with public keys.\n",
    "\n",
    "* Addition (of two public keys): `A + B`\n",
    "* Subtraction (of one point from another): `A - B` \n",
    "* Multiplication (of a point times a scalar): `A * b`\n",
    "* Division (of a point by a scalar): `A * 1/b` (See Fermat's little theorem) \n"
   ]
  },
  {
   "cell_type": "markdown",
   "metadata": {},
   "source": [
    "![test](images/ec_math1.jpg)\n",
    "\n",
    "_Classes and methods for EC operations provided by the Bitcoin Core test framework._"
   ]
  },
  {
   "cell_type": "markdown",
   "metadata": {},
   "source": [
    "#### 0.2.1 Example: Scalar Addition over secp256K1 order\n",
    "\n",
    "Addition can be performed with modular arithmetic in python or with the private key class `ECKey`. We can set an `ECKey` object to a certain value, or generate a new private key with the `generate` method.\n",
    "\n",
    "In the example below, addition is performed with both integers and the `ECKey` class, and evaluated for equality."
   ]
  },
  {
   "cell_type": "code",
   "execution_count": 6,
   "metadata": {},
   "outputs": [
    {
     "name": "stdout",
     "output_type": "stream",
     "text": [
      "a = 63730495339989342280100092141186388473011496431802482230453886724924225546638\n",
      "b = 6022299638571559356971922610361690619270749296675718053974783431243576721600\n",
      "\n",
      "a + b = 69752794978560901637072014751548079092282245728478200284428670156167802268238\n",
      "\n",
      "a_key private key = 63730495339989342280100092141186388473011496431802482230453886724924225546638\n",
      "b_key private key = 6022299638571559356971922610361690619270749296675718053974783431243576721600\n",
      "\n",
      "ab_key private key = 69752794978560901637072014751548079092282245728478200284428670156167802268238\n",
      "\n",
      "Success!\n"
     ]
    }
   ],
   "source": [
    "# int() operations\n",
    "# get 2 random numbers a, b\n",
    "a = random.randrange(1, SECP256K1_ORDER)\n",
    "b = random.randrange(1, SECP256K1_ORDER)\n",
    "print(\"a = {}\".format(a))\n",
    "print(\"b = {}\".format(b))\n",
    "\n",
    "# use simple addition for a + b but modulo the result to make sure we stay within the SECP256K1_ORDER order\n",
    "ab = (a + b) % SECP256K1_ORDER\n",
    "print(\"\\na + b = {}\\n\".format(ab))\n",
    "\n",
    "# ECKey() operations\n",
    "# Use the set() method to instantiate ECKey instances\n",
    "a_key = ECKey().set(a)\n",
    "b_key = ECKey().set(b)\n",
    "\n",
    "ab_key = a_key + b_key\n",
    "\n",
    "print(\"a_key private key = {}\".format(a_key))\n",
    "print(\"b_key private key = {}\".format(b_key))\n",
    "print(\"\\nab_key private key = {}\\n\".format(ab_key))\n",
    "\n",
    "# Check operations are equivalent\n",
    "# Use .secret to retrieve the ECKey's private key \n",
    "assert ab_key.secret == ab\n",
    "print(\"Success!\")"
   ]
  },
  {
   "cell_type": "markdown",
   "metadata": {},
   "source": [
    "#### 0.2.2 Example: Scalar Multiplication over secp256K1 order\n",
    "\n",
    "In the example below, multiplication is performed with both integers and the `ECKey` class, and evaluated for equality."
   ]
  },
  {
   "cell_type": "code",
   "execution_count": 7,
   "metadata": {},
   "outputs": [
    {
     "name": "stdout",
     "output_type": "stream",
     "text": [
      "a = 48748473141348616209099053803952557288699949053867586223037838461544407414421\n",
      "b = 82890461706001698342006858999466069580267380620160233589143596817165294223627\n",
      "\n",
      "a * b = 46093465591837529445240046432540772657460982317937403913485619837587002004229\n",
      "\n",
      "a_key private key = 48748473141348616209099053803952557288699949053867586223037838461544407414421\n",
      "b_key private key = 82890461706001698342006858999466069580267380620160233589143596817165294223627\n",
      "\n",
      "ab_key private key = 46093465591837529445240046432540772657460982317937403913485619837587002004229\n",
      "\n",
      "Success!\n"
     ]
    }
   ],
   "source": [
    "# int() operations\n",
    "# get 2 random numbers a, b\n",
    "a = random.randrange(1, SECP256K1_ORDER)\n",
    "b = random.randrange(1, SECP256K1_ORDER)\n",
    "print(\"a = {}\".format(a))\n",
    "print(\"b = {}\".format(b))\n",
    "\n",
    "# Use simple multiplication for a * b but modulo the result to make sure we stay within the SECP256K1_ORDER order\n",
    "ab = (a * b) % SECP256K1_ORDER\n",
    "print(\"\\na * b = {}\\n\".format(ab))\n",
    "\n",
    "# ECkey() operations\n",
    "# Use the set() method to instantiate ECKey instances\n",
    "a_key = ECKey().set(a)\n",
    "b_key = ECKey().set(b)\n",
    "\n",
    "ab_key = a_key * b_key\n",
    "\n",
    "print(\"a_key private key = {}\".format(a_key))\n",
    "print(\"b_key private key = {}\".format(b_key))\n",
    "print(\"\\nab_key private key = {}\\n\".format(ab_key))\n",
    "\n",
    "# Check operations are equivalent\n",
    "# Use .secret to retrieve the ECKey's private key \n",
    "assert ab_key.secret == ab\n",
    "print(\"Success!\")"
   ]
  },
  {
   "cell_type": "markdown",
   "metadata": {},
   "source": [
    "#### 0.2.3 _Programming Exercise:_ Commutative property of scalar operations\n",
    "\n",
    "In this exercise we wish to demonstrate the commutative property of scalar addition and multiplication, whilst getting familiarized with both integer modulo operations and the private key `ECKey` methods.\n",
    "\n",
    "Consider:\n",
    "\n",
    "* `a + b == b + a` over secp256k1\n",
    "* `a * b == b * a` over secp256k1"
   ]
  },
  {
   "cell_type": "code",
   "execution_count": 11,
   "metadata": {},
   "outputs": [
    {
     "name": "stdout",
     "output_type": "stream",
     "text": [
      "Left: 62925644158993755661996200826154920324173284067458292156865776477860987947600\n",
      "Right: 62925644158993755661996200826154920324173284067458292156865776477860987947600\n",
      "\n",
      "Left: 49892819292529700854949928710321051233102061496712264426269514397427309553938\n",
      "Right: 49892819292529700854949928710321051233102061496712264426269514397427309553938\n",
      "\n",
      "Success!\n"
     ]
    },
    {
     "name": "stderr",
     "output_type": "stream",
     "text": [
      "/var/folders/dm/y81m2jm566lcd943x_y5mjsw0000gn/T/ipykernel_55202/532818805.py:1: DeprecationWarning: non-integer arguments to randrange() have been deprecated since Python 3.10 and will be removed in a subsequent version\n",
      "  a = random.randrange(SECP256K1_ORDER / 2, SECP256K1_ORDER)\n",
      "/var/folders/dm/y81m2jm566lcd943x_y5mjsw0000gn/T/ipykernel_55202/532818805.py:4: DeprecationWarning: non-integer arguments to randrange() have been deprecated since Python 3.10 and will be removed in a subsequent version\n",
      "  b = random.randrange(SECP256K1_ORDER / 2, SECP256K1_ORDER)\n"
     ]
    }
   ],
   "source": [
    "a = random.randrange(SECP256K1_ORDER / 2, SECP256K1_ORDER)\n",
    "a_key = ECKey().set(a) \n",
    "\n",
    "b = random.randrange(SECP256K1_ORDER / 2, SECP256K1_ORDER)\n",
    "b_key = ECKey().set(b) \n",
    "\n",
    "# Left: Compute a + b as ints (modulo the sepc256k1 group order)\n",
    "left_a_plus_b =  (a + b) % SECP256K1_ORDER\n",
    "\n",
    "# Right: Compute b + a as ECKeys\n",
    "right_b_plus_a =  b_key + a_key\n",
    "\n",
    "print(\"Left: {}\".format(left_a_plus_b))\n",
    "print(\"Right: {}\\n\".format(right_b_plus_a))\n",
    "\n",
    "# Left/Right: Assert equality\n",
    "assert left_a_plus_b == right_b_plus_a.secret\n",
    "\n",
    "# Left: Compute a * b as ints (modulo the sepc256k1 group order)\n",
    "left_a_times_b =  (a * b) % SECP256K1_ORDER \n",
    "\n",
    "# Right: Compute b * a as ECKeys\n",
    "right_b_times_a =  b_key * a_key\n",
    "\n",
    "print(\"Left: {}\".format(left_a_times_b))\n",
    "print(\"Right: {}\\n\".format(right_b_times_a))\n",
    "\n",
    "# Left/Right: Assert equality\n",
    "assert left_a_times_b == right_b_times_a.secret\n",
    "print(\"Success!\")"
   ]
  },
  {
   "cell_type": "markdown",
   "metadata": {},
   "source": [
    "#### 0.2.4 _Programming Exercise:_ Distributivity of scalar operations\n",
    "\n",
    "In this exercise we wish to demonstrate the distributivity property of scalar addition and multiplication.\n",
    "\n",
    "Consider: `(a - b) * c == a * c - b * c` over SECP256k1"
   ]
  },
  {
   "cell_type": "code",
   "execution_count": 12,
   "metadata": {},
   "outputs": [
    {
     "name": "stdout",
     "output_type": "stream",
     "text": [
      "Left: 73155766842440506945259300742086008800985542106387645067810571735844675566467\n",
      "Right: 73155766842440506945259300742086008800985542106387645067810571735844675566467\n",
      "\n",
      "Success!\n"
     ]
    }
   ],
   "source": [
    "a = random.randrange(1, SECP256K1_ORDER)\n",
    "a_key = ECKey().set(a)\n",
    "\n",
    "b = random.randrange(1, SECP256K1_ORDER)\n",
    "b_key = ECKey().set(b)\n",
    "\n",
    "c = random.randrange(1, SECP256K1_ORDER)\n",
    "c_key = ECKey().set(c)\n",
    "\n",
    "# Left: Compute a - b as ints (modulo the sepc256k1 group order)\n",
    "a_minus_b =  (a - b) % SECP256K1_ORDER\n",
    "\n",
    "# Left: Compute (a - b) * c as ints (modulo the sepc256k1 group order)\n",
    "left =  ((a - b) * c) % SECP256K1_ORDER\n",
    "\n",
    "# Right: Compute a * c - b * c as ECKeys\n",
    "right =  (a_key * c_key) - (b_key * c_key)\n",
    "\n",
    "print(\"Left: {}\".format(left))\n",
    "print(\"Right: {}\".format(right))\n",
    "\n",
    "# Left/Right: Assert equality\n",
    "assert left == right.secret\n",
    "print(\"\\nSuccess!\")"
   ]
  },
  {
   "cell_type": "markdown",
   "metadata": {},
   "source": [
    "#### 0.2.5 Example: Point Addition over secp256k1\n",
    "\n",
    "The public key `ECPubkey` class can be derived from `ECKey` with the `ECKey.get_pubkey` method. \n",
    "\n",
    "In the following example, we perform point addition. Point addition is used to create aggregate MuSig pubkeys."
   ]
  },
  {
   "cell_type": "code",
   "execution_count": 13,
   "metadata": {},
   "outputs": [
    {
     "name": "stdout",
     "output_type": "stream",
     "text": [
      "Point A is 59ea4e55979e26b9fb17b74b4cd947333b822dab47bdc15f3e70168c604c62cb\n",
      "Point B is a969635cd56d7f3d8c0f784c5f12b6fb1b0f97eb297cb344d3faa71a597d91ba\n",
      "Point (A + B) is da4d102942d70665c2f401a3e11c40b4afe55b9472cd560fb2ee156bc6386ceb\n"
     ]
    }
   ],
   "source": [
    "# Generate uses random.randrange(1, SECP256K1_ORDER) similar to what we have done in earlier examples\n",
    "a = ECKey().generate()\n",
    "\n",
    "# get_pubkey() generates the pubkey (in the form of an ECPubKey object)\n",
    "# by multiplying the secret by the generator point G\n",
    "A = a.get_pubkey()\n",
    "\n",
    "# Alternatively, use the generate_key_pair() helper function to return a (ECKey, ECPubKey) pair\n",
    "b, B = generate_key_pair()\n",
    "\n",
    "# Print the public keys\n",
    "print(\"Point A is {}\".format(A))\n",
    "print(\"Point B is {}\".format(B))\n",
    "\n",
    "# Perform point addition between the two pubkeys\n",
    "AB = A + B\n",
    "\n",
    "print(\"Point (A + B) is {}\".format(AB))"
   ]
  },
  {
   "cell_type": "markdown",
   "metadata": {},
   "source": [
    "#### 0.2.6  _Programming Exercise:_ Distributivity over scalars and points\n",
    "\n",
    "In this exercise we wish to demonstrate the distributivity property of scalar/point operations, whilst getting familiarized with both integer modulo operations and the public key `ECPubKey` methods.\n",
    "\n",
    "Consider: `(a - b) * C == a * C + (-b) * C`"
   ]
  },
  {
   "cell_type": "code",
   "execution_count": 14,
   "metadata": {},
   "outputs": [
    {
     "name": "stdout",
     "output_type": "stream",
     "text": [
      "Left: f65f0b139f2846d1f9719eb2127ef7c6fe608a43c1c761f8eaec0222156eaf7c\n",
      "Right: f65f0b139f2846d1f9719eb2127ef7c6fe608a43c1c761f8eaec0222156eaf7c\n",
      "\n",
      "Success!\n"
     ]
    }
   ],
   "source": [
    "a = ECKey().generate()\n",
    "b = ECKey().generate()\n",
    "c, C = generate_key_pair()\n",
    "\n",
    "# Left: Compute (a - b) * C  \n",
    "left =  (a - b) * C\n",
    "\n",
    "# Right: Compute aC - bC\n",
    "right =  (a * C) - (b * C)\n",
    "\n",
    "print(\"Left: {}\".format(left))\n",
    "print(\"Right: {}\".format(right))\n",
    "\n",
    "# Left/Right: Assert equality\n",
    "assert left == right\n",
    "print(\"\\nSuccess!\")"
   ]
  },
  {
   "cell_type": "markdown",
   "metadata": {},
   "source": [
    "**Congratulations!** You've learned:\n",
    "\n",
    "- Scalar addition, subtraction, multiplication and division\n",
    "- Point addition and subtraction\n",
    "- Multiplying a point by a scalar\n",
    "- How to use the `ECKey` and `ECPubKey` classes"
   ]
  }
 ],
 "metadata": {
  "kernelspec": {
   "display_name": "Python 3 (ipykernel)",
   "language": "python",
   "name": "python3"
  },
  "language_info": {
   "codemirror_mode": {
    "name": "ipython",
    "version": 3
   },
   "file_extension": ".py",
   "mimetype": "text/x-python",
   "name": "python",
   "nbconvert_exporter": "python",
   "pygments_lexer": "ipython3",
   "version": "3.10.9"
  }
 },
 "nbformat": 4,
 "nbformat_minor": 2
}
